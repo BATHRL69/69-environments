{
  "cells": [
    {
      "cell_type": "markdown",
      "metadata": {
        "id": "hyyN-2qyK_T2"
      },
      "source": [
        "# Stable Baselines - Hindsight Experience Replay on Highway Env\n",
        "\n",
        "Github Repo: [https://github.com/hill-a/stable-baselines](https://github.com/hill-a/stable-baselines)\n",
        "\n",
        "Medium article: [https://medium.com/@araffin/stable-baselines-a-fork-of-openai-baselines-df87c4b2fc82](https://medium.com/@araffin/stable-baselines-a-fork-of-openai-baselines-df87c4b2fc82)\n",
        "\n",
        "Highway env: [https://github.com/eleurent/highway-env](https://github.com/eleurent/highway-env)\n",
        "\n",
        "[RL Baselines Zoo](https://github.com/araffin/rl-baselines-zoo) is a collection of pre-trained Reinforcement Learning agents using Stable-Baselines.\n",
        "\n",
        "It also provides basic scripts for training, evaluating agents, tuning hyperparameters and recording videos.\n",
        "\n",
        "Documentation is available online: [https://stable-baselines.readthedocs.io/](https://stable-baselines.readthedocs.io/)\n",
        "\n",
        "## Install Dependencies and Stable Baselines Using Pip\n",
        "\n",
        "List of full dependencies can be found in the [README](https://github.com/hill-a/stable-baselines).\n",
        "\n",
        "```\n",
        "sudo apt-get update && sudo apt-get install cmake libopenmpi-dev zlib1g-dev\n",
        "```\n",
        "\n",
        "\n",
        "```\n",
        "pip install stable-baselines[mpi]\n",
        "```"
      ]
    },
    {
      "cell_type": "code",
      "execution_count": 3,
      "metadata": {
        "id": "qPg7pyvK_Emi"
      },
      "outputs": [
        {
          "name": "stdout",
          "output_type": "stream",
          "text": [
            "Collecting stable-baselines==2.10.2 (from stable-baselines[mpi]==2.10.2)\n",
            "  Downloading stable_baselines-2.10.2-py3-none-any.whl.metadata (4.7 kB)\n",
            "Collecting gym>=0.11 (from gym[atari,classic_control]>=0.11->stable-baselines==2.10.2->stable-baselines[mpi]==2.10.2)\n",
            "  Using cached gym-0.26.2-py3-none-any.whl\n",
            "Requirement already satisfied: scipy in c:\\users\\solly\\_\\python\\69\\.venv\\lib\\site-packages (from stable-baselines==2.10.2->stable-baselines[mpi]==2.10.2) (1.14.1)\n",
            "Requirement already satisfied: joblib in c:\\users\\solly\\_\\python\\69\\.venv\\lib\\site-packages (from stable-baselines==2.10.2->stable-baselines[mpi]==2.10.2) (1.4.2)\n",
            "Requirement already satisfied: cloudpickle>=0.5.5 in c:\\users\\solly\\_\\python\\69\\.venv\\lib\\site-packages (from stable-baselines==2.10.2->stable-baselines[mpi]==2.10.2) (3.1.0)\n",
            "Collecting opencv-python (from stable-baselines==2.10.2->stable-baselines[mpi]==2.10.2)\n",
            "  Using cached opencv_python-4.10.0.84-cp37-abi3-win_amd64.whl.metadata (20 kB)\n",
            "Requirement already satisfied: numpy in c:\\users\\solly\\_\\python\\69\\.venv\\lib\\site-packages (from stable-baselines==2.10.2->stable-baselines[mpi]==2.10.2) (1.26.4)\n",
            "Requirement already satisfied: pandas in c:\\users\\solly\\_\\python\\69\\.venv\\lib\\site-packages (from stable-baselines==2.10.2->stable-baselines[mpi]==2.10.2) (2.2.3)\n",
            "Requirement already satisfied: matplotlib in c:\\users\\solly\\_\\python\\69\\.venv\\lib\\site-packages (from stable-baselines==2.10.2->stable-baselines[mpi]==2.10.2) (3.7.5)\n",
            "Collecting mpi4py (from stable-baselines[mpi]==2.10.2)\n",
            "  Downloading mpi4py-4.0.1-cp312-cp312-win_amd64.whl.metadata (10 kB)\n",
            "Collecting gym-notices>=0.0.4 (from gym>=0.11->gym[atari,classic_control]>=0.11->stable-baselines==2.10.2->stable-baselines[mpi]==2.10.2)\n",
            "  Using cached gym_notices-0.0.8-py3-none-any.whl.metadata (1.0 kB)\n",
            "INFO: pip is looking at multiple versions of gym[atari,classic-control] to determine which version is compatible with other requirements. This could take a while.\n",
            "Collecting gym[atari,classic_control]>=0.11 (from stable-baselines==2.10.2->stable-baselines[mpi]==2.10.2)\n",
            "  Downloading gym-0.26.1.tar.gz (719 kB)\n",
            "     ---------------------------------------- 0.0/719.9 kB ? eta -:--:--\n",
            "     ------------------------------------- 719.9/719.9 kB 14.3 MB/s eta 0:00:00\n",
            "  Installing build dependencies: started\n",
            "  Installing build dependencies: finished with status 'done'\n",
            "  Getting requirements to build wheel: started\n",
            "  Getting requirements to build wheel: finished with status 'done'\n",
            "  Preparing metadata (pyproject.toml): started\n",
            "  Preparing metadata (pyproject.toml): finished with status 'done'\n",
            "  Downloading gym-0.26.0.tar.gz (710 kB)\n",
            "     ---------------------------------------- 0.0/710.3 kB ? eta -:--:--\n",
            "     ------------------------------------- 710.3/710.3 kB 14.5 MB/s eta 0:00:00\n",
            "  Installing build dependencies: started\n",
            "  Installing build dependencies: finished with status 'done'\n",
            "  Getting requirements to build wheel: started\n",
            "  Getting requirements to build wheel: finished with status 'done'\n",
            "  Preparing metadata (pyproject.toml): started\n",
            "  Preparing metadata (pyproject.toml): finished with status 'done'\n",
            "  Downloading gym-0.25.2.tar.gz (734 kB)\n",
            "     ---------------------------------------- 0.0/734.5 kB ? eta -:--:--\n",
            "     ------------------------------------- 734.5/734.5 kB 15.2 MB/s eta 0:00:00\n",
            "  Installing build dependencies: started\n",
            "  Installing build dependencies: finished with status 'done'\n",
            "  Getting requirements to build wheel: started\n",
            "  Getting requirements to build wheel: finished with status 'done'\n",
            "  Preparing metadata (pyproject.toml): started\n",
            "  Preparing metadata (pyproject.toml): finished with status 'done'\n",
            "  Downloading gym-0.25.1.tar.gz (732 kB)\n",
            "     ---------------------------------------- 0.0/732.2 kB ? eta -:--:--\n",
            "     ------------------------------------- 732.2/732.2 kB 31.3 MB/s eta 0:00:00\n",
            "  Installing build dependencies: started\n",
            "  Installing build dependencies: finished with status 'done'\n",
            "  Getting requirements to build wheel: started\n",
            "  Getting requirements to build wheel: finished with status 'done'\n",
            "  Preparing metadata (pyproject.toml): started\n",
            "  Preparing metadata (pyproject.toml): finished with status 'done'\n",
            "  Downloading gym-0.25.0.tar.gz (720 kB)\n",
            "     ---------------------------------------- 0.0/720.4 kB ? eta -:--:--\n",
            "     ------------------------------------- 720.4/720.4 kB 28.6 MB/s eta 0:00:00\n",
            "  Installing build dependencies: started\n",
            "  Installing build dependencies: finished with status 'done'\n",
            "  Getting requirements to build wheel: started\n",
            "  Getting requirements to build wheel: finished with status 'done'\n",
            "  Preparing metadata (pyproject.toml): started\n",
            "  Preparing metadata (pyproject.toml): finished with status 'done'\n",
            "  Downloading gym-0.24.1.tar.gz (696 kB)\n",
            "     ---------------------------------------- 0.0/696.4 kB ? eta -:--:--\n",
            "     ------------------------------------- 696.4/696.4 kB 29.0 MB/s eta 0:00:00\n",
            "  Installing build dependencies: started\n",
            "  Installing build dependencies: finished with status 'done'\n",
            "  Getting requirements to build wheel: started\n",
            "  Getting requirements to build wheel: finished with status 'done'\n",
            "  Preparing metadata (pyproject.toml): started\n",
            "  Preparing metadata (pyproject.toml): finished with status 'done'\n",
            "  Downloading gym-0.24.0.tar.gz (694 kB)\n",
            "     ---------------------------------------- 0.0/694.4 kB ? eta -:--:--\n",
            "     ------------------------------------- 694.4/694.4 kB 28.8 MB/s eta 0:00:00\n",
            "  Installing build dependencies: started\n",
            "  Installing build dependencies: finished with status 'done'\n",
            "  Getting requirements to build wheel: started\n",
            "  Getting requirements to build wheel: finished with status 'done'\n",
            "  Preparing metadata (pyproject.toml): started\n",
            "  Preparing metadata (pyproject.toml): finished with status 'done'\n",
            "INFO: pip is still looking at multiple versions of gym[atari,classic-control] to determine which version is compatible with other requirements. This could take a while.\n",
            "  Downloading gym-0.23.1.tar.gz (626 kB)\n",
            "     ---------------------------------------- 0.0/626.2 kB ? eta -:--:--\n",
            "     ------------------------------------- 626.2/626.2 kB 11.7 MB/s eta 0:00:00\n",
            "  Installing build dependencies: started\n",
            "  Installing build dependencies: finished with status 'done'\n",
            "  Getting requirements to build wheel: started\n",
            "  Getting requirements to build wheel: finished with status 'done'\n",
            "  Preparing metadata (pyproject.toml): started\n",
            "  Preparing metadata (pyproject.toml): finished with status 'done'\n",
            "  Downloading gym-0.23.0.tar.gz (624 kB)\n",
            "     ---------------------------------------- 0.0/624.4 kB ? eta -:--:--\n",
            "     ------------------------------------- 624.4/624.4 kB 22.6 MB/s eta 0:00:00\n",
            "  Installing build dependencies: started\n",
            "  Installing build dependencies: finished with status 'done'\n",
            "  Getting requirements to build wheel: started\n",
            "  Getting requirements to build wheel: finished with status 'done'\n",
            "  Preparing metadata (pyproject.toml): started\n",
            "  Preparing metadata (pyproject.toml): finished with status 'done'\n",
            "  Downloading gym-0.22.0.tar.gz (631 kB)\n",
            "     ---------------------------------------- 0.0/631.1 kB ? eta -:--:--\n",
            "     ------------------------------------- 631.1/631.1 kB 11.9 MB/s eta 0:00:00\n",
            "  Installing build dependencies: started\n",
            "  Installing build dependencies: finished with status 'done'\n",
            "  Getting requirements to build wheel: started\n",
            "  Getting requirements to build wheel: finished with status 'done'\n",
            "  Preparing metadata (pyproject.toml): started\n",
            "  Preparing metadata (pyproject.toml): finished with status 'done'\n",
            "  Using cached gym-0.21.0.tar.gz (1.5 MB)\n",
            "  Preparing metadata (setup.py): started\n",
            "  Preparing metadata (setup.py): finished with status 'error'\n"
          ]
        },
        {
          "name": "stderr",
          "output_type": "stream",
          "text": [
            "  error: subprocess-exited-with-error\n",
            "  \n",
            "  × python setup.py egg_info did not run successfully.\n",
            "  │ exit code: 1\n",
            "  ╰─> [11 lines of output]\n",
            "      Traceback (most recent call last):\n",
            "        File \"<string>\", line 2, in <module>\n",
            "        File \"<pip-setuptools-caller>\", line 14, in <module>\n",
            "        File \"c:\\Users\\Solly\\_\\python\\69\\.venv\\Lib\\site-packages\\setuptools\\__init__.py\", line 16, in <module>\n",
            "          import setuptools.version\n",
            "        File \"c:\\Users\\Solly\\_\\python\\69\\.venv\\Lib\\site-packages\\setuptools\\version.py\", line 1, in <module>\n",
            "          import pkg_resources\n",
            "        File \"c:\\Users\\Solly\\_\\python\\69\\.venv\\Lib\\site-packages\\pkg_resources\\__init__.py\", line 2191, in <module>\n",
            "          register_finder(pkgutil.ImpImporter, find_on_path)\n",
            "                          ^^^^^^^^^^^^^^^^^^^\n",
            "      AttributeError: module 'pkgutil' has no attribute 'ImpImporter'. Did you mean: 'zipimporter'?\n",
            "      [end of output]\n",
            "  \n",
            "  note: This error originates from a subprocess, and is likely not a problem with pip.\n",
            "\n",
            "[notice] A new release of pip is available: 24.2 -> 24.3.1\n",
            "[notice] To update, run: python.exe -m pip install --upgrade pip\n",
            "error: metadata-generation-failed\n",
            "\n",
            "× Encountered error while generating package metadata.\n",
            "╰─> See above for output.\n",
            "\n",
            "note: This is an issue with the package mentioned above, not pip.\n",
            "hint: See above for details.\n"
          ]
        }
      ],
      "source": [
        "# Stable Baselines only supports tensorflow 1.x for now\n",
        "# Install stable-baselines latest version\n",
        "!pip install stable-baselines[mpi]==2.10.2"
      ]
    },
    {
      "cell_type": "code",
      "execution_count": null,
      "metadata": {
        "id": "4wA6lU254uNl"
      },
      "outputs": [],
      "source": [
        "# Install highway-env\n",
        "!pip install git+https://github.com/eleurent/highway-env#egg=highway-env"
      ]
    },
    {
      "cell_type": "markdown",
      "metadata": {
        "id": "FtY8FhliLsGm"
      },
      "source": [
        "## Import policy, RL agent, ..."
      ]
    },
    {
      "cell_type": "code",
      "execution_count": null,
      "metadata": {
        "colab": {
          "base_uri": "https://localhost:8080/",
          "height": 53
        },
        "id": "BIedd7Pz9sOs",
        "outputId": "835096d4-cec8-44e9-f1e4-39901b34009d"
      },
      "outputs": [
        {
          "name": "stdout",
          "output_type": "stream",
          "text": [
            "pygame 1.9.6\n",
            "Hello from the pygame community. https://www.pygame.org/contribute.html\n"
          ]
        }
      ],
      "source": [
        "import gym\n",
        "import highway_env\n",
        "import numpy as np\n",
        "\n",
        "from stable_baselines import HER, SAC, DDPG\n",
        "from stable_baselines.ddpg import NormalActionNoise"
      ]
    },
    {
      "cell_type": "markdown",
      "metadata": {
        "id": "RapkYvTXL7Cd"
      },
      "source": [
        "## Create the Gym env and instantiate the agent\n",
        "\n",
        "For this example, we will be using the parking environment from the [highway-env](https://github.com/eleurent/highway-env) repo by @eleurent.\n",
        "\n",
        "The parking env is a goal-conditioned continuous control task, in which the vehicle must park in a given space with the appropriate heading.\n",
        "\n",
        "\n",
        "![parking-env](https://raw.githubusercontent.com/eleurent/highway-env/gh-media/docs/media/parking-env.gif)\n",
        "\n"
      ]
    },
    {
      "cell_type": "markdown",
      "metadata": {
        "id": "QT5Io2LwAzlp"
      },
      "source": [
        "### Train Soft Actor-Critic (SAC) agent\n",
        "\n",
        "Here, we use HER \"future\" goal sampling strategy, where we create 4 artificial transitions per real transition\n",
        "\n",
        "Note: the hyperparameters (network architecture, discount factor, ...) where tuned for this task"
      ]
    },
    {
      "cell_type": "code",
      "execution_count": null,
      "metadata": {
        "id": "TzkK23C2BCKr"
      },
      "outputs": [],
      "source": [
        "env = gym.make(\"parking-v0\")"
      ]
    },
    {
      "cell_type": "code",
      "execution_count": null,
      "metadata": {
        "id": "QDdPRp0f5Bcz"
      },
      "outputs": [],
      "source": [
        "# SAC hyperparams:\n",
        "model = HER('MlpPolicy', env, SAC, n_sampled_goal=4,\n",
        "            goal_selection_strategy='future',\n",
        "            verbose=1, buffer_size=int(1e6),\n",
        "            learning_rate=1e-3,\n",
        "            gamma=0.95, batch_size=256,\n",
        "            policy_kwargs=dict(layers=[256, 256, 256]))"
      ]
    },
    {
      "cell_type": "code",
      "execution_count": null,
      "metadata": {
        "id": "P82f568g5g0q"
      },
      "outputs": [],
      "source": [
        "# Train for 1e5 steps\n",
        "model.learn(int(1e5))\n",
        "# Save the trained agent\n",
        "model.save('her_sac_highway')"
      ]
    },
    {
      "cell_type": "code",
      "execution_count": null,
      "metadata": {
        "id": "nGa3dNn36PTX"
      },
      "outputs": [],
      "source": [
        "# Load saved model\n",
        "model = HER.load('her_sac_highway', env=env)"
      ]
    },
    {
      "cell_type": "markdown",
      "metadata": {
        "id": "Jg_7vKNGA6Hf"
      },
      "source": [
        "#### Evaluate the agent"
      ]
    },
    {
      "cell_type": "code",
      "execution_count": null,
      "metadata": {
        "id": "D3sxhf1Q6NlL"
      },
      "outputs": [],
      "source": [
        "obs = env.reset()\n",
        "\n",
        "# Evaluate the agent\n",
        "episode_reward = 0\n",
        "for _ in range(1000):\n",
        "\taction, _ = model.predict(obs)\n",
        "\tobs, reward, done, info = env.step(action)\n",
        "\tepisode_reward += reward\n",
        "\tif done or info.get('is_success', False):\n",
        "\t\tprint(\"Reward:\", episode_reward, \"Success?\", info.get('is_success', False))\n",
        "\t\tepisode_reward = 0.0\n",
        "\t\tobs = env.reset()"
      ]
    },
    {
      "cell_type": "markdown",
      "metadata": {
        "id": "fMjiWlSEi-3n"
      },
      "source": [
        "### Train DDPG agent"
      ]
    },
    {
      "cell_type": "code",
      "execution_count": null,
      "metadata": {
        "id": "FCLW5cGIZa52"
      },
      "outputs": [],
      "source": [
        "# Create the action noise object that will be used for exploration\n",
        "n_actions = env.action_space.shape[0]\n",
        "noise_std = 0.2\n",
        "action_noise = NormalActionNoise(mean=np.zeros(n_actions), sigma=noise_std * np.ones(n_actions))\n",
        "\n",
        "model = HER('MlpPolicy', env, DDPG, n_sampled_goal=4,\n",
        "            goal_selection_strategy='future',\n",
        "            verbose=1, buffer_size=int(1e6),\n",
        "            actor_lr=1e-3, critic_lr=1e-3, action_noise=action_noise,\n",
        "            gamma=0.95, batch_size=256,\n",
        "            policy_kwargs=dict(layers=[256, 256, 256]))"
      ]
    },
    {
      "cell_type": "code",
      "execution_count": null,
      "metadata": {
        "id": "PXAQeENljBIe"
      },
      "outputs": [],
      "source": [
        "model.learn(int(2e5))\n",
        "\n",
        "model.save('her_ddpg_highway')"
      ]
    },
    {
      "cell_type": "markdown",
      "metadata": {
        "id": "B8uJjxQLBxdS"
      },
      "source": [
        "#### Evaluate the agent"
      ]
    },
    {
      "cell_type": "code",
      "execution_count": null,
      "metadata": {
        "id": "XjohypRhjEjS"
      },
      "outputs": [],
      "source": [
        "obs = env.reset()\n",
        "\n",
        "# Evaluate the agent\n",
        "episode_reward = 0\n",
        "for _ in range(1000):\n",
        "\taction, _ = model.predict(obs)\n",
        "\tobs, reward, done, info = env.step(action)\n",
        "\tepisode_reward += reward\n",
        "\tif done or info.get('is_success', False):\n",
        "\t\tprint(\"Reward:\", episode_reward, \"Success?\", info.get('is_success', False))\n",
        "\t\tepisode_reward = 0.0\n",
        "\t\tobs = env.reset()"
      ]
    },
    {
      "cell_type": "code",
      "execution_count": null,
      "metadata": {
        "id": "Av5BQaUeXOEZ"
      },
      "outputs": [],
      "source": []
    }
  ],
  "metadata": {
    "accelerator": "GPU",
    "colab": {
      "name": "stable_baselines_HER.ipynb",
      "provenance": []
    },
    "kernelspec": {
      "display_name": ".venv",
      "language": "python",
      "name": "python3"
    },
    "language_info": {
      "codemirror_mode": {
        "name": "ipython",
        "version": 3
      },
      "file_extension": ".py",
      "mimetype": "text/x-python",
      "name": "python",
      "nbconvert_exporter": "python",
      "pygments_lexer": "ipython3",
      "version": "3.12.1"
    }
  },
  "nbformat": 4,
  "nbformat_minor": 0
}
